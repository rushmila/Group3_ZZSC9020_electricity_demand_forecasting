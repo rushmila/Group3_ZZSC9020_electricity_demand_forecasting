{
 "cells": [
  {
   "cell_type": "markdown",
   "id": "86cd266f",
   "metadata": {},
   "source": [
    "## Calculate Performance Matrices for AEMO Forecasted Demand"
   ]
  },
  {
   "cell_type": "markdown",
   "id": "a60c5d5a",
   "metadata": {},
   "source": [
    "#### Load datasets\n",
    "\n",
    "* Prepared Demand data file\n",
    "* Prepared AEMO forecast demand file"
   ]
  },
  {
   "cell_type": "code",
   "execution_count": 43,
   "id": "d3c6425c",
   "metadata": {},
   "outputs": [],
   "source": [
    "import pandas as pd\n",
    "import datetime as dt\n",
    "from sklearn.metrics import mean_squared_error,mean_absolute_error,mean_absolute_percentage_error"
   ]
  },
  {
   "cell_type": "code",
   "execution_count": 44,
   "id": "0dd533b2",
   "metadata": {},
   "outputs": [
    {
     "name": "stdout",
     "output_type": "stream",
     "text": [
      "                   DATETIME  TOTALDEMAND\n",
      "0       2010-01-01 00:00:00      8038.00\n",
      "1       2010-01-01 00:30:00      7809.31\n",
      "2       2010-01-01 01:00:00      7483.69\n",
      "3       2010-01-01 01:30:00      7117.23\n",
      "4       2010-01-01 02:00:00      6812.03\n",
      "...                     ...          ...\n",
      "196460  2021-03-16 22:00:00      7373.83\n",
      "196461  2021-03-16 22:30:00      7345.78\n",
      "196462  2021-03-16 23:00:00      7218.99\n",
      "196463  2021-03-16 23:30:00      7056.88\n",
      "196464  2021-03-17 00:00:00      6999.23\n",
      "\n",
      "[196465 rows x 2 columns]\n",
      "                  DATETIME  FORECASTDEMAND\n",
      "0      2018-01-01 00:00:00     6599.958028\n",
      "1      2018-01-01 00:30:00     6462.985139\n",
      "2      2018-01-01 01:00:00     6302.716986\n",
      "3      2018-01-01 01:30:00     6066.275000\n",
      "4      2018-01-01 02:00:00     5865.197600\n",
      "...                    ...             ...\n",
      "56252  2021-03-17 22:00:00     7317.702687\n",
      "56253  2021-03-17 22:30:00     7266.887647\n",
      "56254  2021-03-17 23:00:00     7173.866522\n",
      "56255  2021-03-17 23:30:00     7043.236857\n",
      "56256  2021-03-18 00:00:00     6961.076901\n",
      "\n",
      "[56257 rows x 2 columns]\n"
     ]
    }
   ],
   "source": [
    "td_df = pd.read_csv(\"../data/final_data_2010_2021.csv\")\n",
    "td_df = td_df[['DATETIME','TOTALDEMAND']]\n",
    "aemo_fd_df = pd.read_csv(\"../data/forecastdemand_nsw.csv\")\n",
    "print(td_df)\n",
    "print(aemo_fd_df)"
   ]
  },
  {
   "cell_type": "markdown",
   "id": "01c902ff",
   "metadata": {},
   "source": [
    "#### Set analysis date range"
   ]
  },
  {
   "cell_type": "code",
   "execution_count": 45,
   "id": "e2bd719b",
   "metadata": {},
   "outputs": [],
   "source": [
    "f_start_date = dt.date(2020, 7, 24) \n",
    "f_end_date = dt.date(2021, 2, 28)"
   ]
  },
  {
   "cell_type": "markdown",
   "id": "ec53b53c",
   "metadata": {},
   "source": [
    "#### Filter datasets to date range used for analysis"
   ]
  },
  {
   "cell_type": "code",
   "execution_count": 46,
   "id": "317b151b",
   "metadata": {},
   "outputs": [
    {
     "name": "stdout",
     "output_type": "stream",
     "text": [
      "                  DATETIME  TOTALDEMAND\n",
      "185136 2020-07-24 00:00:00      8799.44\n",
      "185137 2020-07-24 00:30:00      8664.64\n",
      "185138 2020-07-24 01:00:00      8394.84\n",
      "185139 2020-07-24 01:30:00      8178.87\n",
      "185140 2020-07-24 02:00:00      7975.65\n",
      "...                    ...          ...\n",
      "195691 2021-02-28 21:30:00      7870.47\n",
      "195692 2021-02-28 22:00:00      7675.40\n",
      "195693 2021-02-28 22:30:00      7527.73\n",
      "195694 2021-02-28 23:00:00      7301.00\n",
      "195695 2021-02-28 23:30:00      7163.21\n",
      "\n",
      "[10560 rows x 2 columns]\n",
      "                 DATETIME  FORECASTDEMAND\n",
      "44880 2020-07-24 00:00:00     8799.931127\n",
      "44881 2020-07-24 00:30:00     8607.057917\n",
      "44882 2020-07-24 01:00:00     8411.563151\n",
      "44883 2020-07-24 01:30:00     8182.821486\n",
      "44884 2020-07-24 02:00:00     7916.211333\n",
      "...                   ...             ...\n",
      "55435 2021-02-28 21:30:00     7853.082879\n",
      "55436 2021-02-28 22:00:00     7657.957910\n",
      "55437 2021-02-28 22:30:00     7479.415882\n",
      "55438 2021-02-28 23:00:00     7268.718116\n",
      "55439 2021-02-28 23:30:00     7054.821714\n",
      "\n",
      "[10560 rows x 2 columns]\n"
     ]
    }
   ],
   "source": [
    "td_df['DATETIME'] = pd.to_datetime(td_df['DATETIME'], format='%Y-%m-%d  %H:%M:%S')\n",
    "aemo_fd_df['DATETIME'] = pd.to_datetime(aemo_fd_df['DATETIME'], format='%Y-%m-%d  %H:%M:%S')\n",
    "\n",
    "td_df = td_df[(td_df['DATETIME'].dt.date >= f_start_date) & (td_df['DATETIME'].dt.date <= f_end_date)]\n",
    "aemo_fd_df = aemo_fd_df[(aemo_fd_df['DATETIME'].dt.date >= f_start_date) & (aemo_fd_df['DATETIME'].dt.date <= f_end_date)]\n",
    "\n",
    "print(td_df)\n",
    "print(aemo_fd_df)"
   ]
  },
  {
   "cell_type": "markdown",
   "id": "0d2adc6b",
   "metadata": {},
   "source": [
    "#### Merge the two datasets"
   ]
  },
  {
   "cell_type": "code",
   "execution_count": 47,
   "id": "88e022fd",
   "metadata": {},
   "outputs": [
    {
     "name": "stdout",
     "output_type": "stream",
     "text": [
      "                 DATETIME  Actual Demand  AEMO Forecast Demand\n",
      "0     2020-07-24 00:00:00        8799.44           8799.931127\n",
      "1     2020-07-24 00:30:00        8664.64           8607.057917\n",
      "2     2020-07-24 01:00:00        8394.84           8411.563151\n",
      "3     2020-07-24 01:30:00        8178.87           8182.821486\n",
      "4     2020-07-24 02:00:00        7975.65           7916.211333\n",
      "...                   ...            ...                   ...\n",
      "10555 2021-02-28 21:30:00        7870.47           7853.082879\n",
      "10556 2021-02-28 22:00:00        7675.40           7657.957910\n",
      "10557 2021-02-28 22:30:00        7527.73           7479.415882\n",
      "10558 2021-02-28 23:00:00        7301.00           7268.718116\n",
      "10559 2021-02-28 23:30:00        7163.21           7054.821714\n",
      "\n",
      "[10560 rows x 3 columns]\n"
     ]
    }
   ],
   "source": [
    "full_data = pd.merge(td_df, aemo_fd_df, on=\"DATETIME\", how='inner')\n",
    "full_data.rename(columns={\"TOTALDEMAND\":\"Actual Demand\",\"FORECASTDEMAND\":\"AEMO Forecast Demand\"},inplace=True)\n",
    "print(full_data)"
   ]
  },
  {
   "cell_type": "markdown",
   "id": "ede10198",
   "metadata": {},
   "source": [
    "#### Calaculate Performance Matrices"
   ]
  },
  {
   "cell_type": "code",
   "execution_count": 48,
   "id": "805fb79a",
   "metadata": {},
   "outputs": [
    {
     "name": "stdout",
     "output_type": "stream",
     "text": [
      "RMSE: 232.33\n",
      "MAE: 160.01\n",
      "MAPE: 2.0%\n"
     ]
    }
   ],
   "source": [
    "AEMO_rmse = round(np.sqrt(mean_squared_error(full_data[\"Actual Demand\"],full_data[\"AEMO Forecast Demand\"])),2)\n",
    "AEMO_mae = round(mean_absolute_error(full_data[\"Actual Demand\"],full_data[\"AEMO Forecast Demand\"]),2)\n",
    "AEMO_mape = round(mean_absolute_percentage_error(full_data[\"Actual Demand\"],full_data[\"AEMO Forecast Demand\"]),2)\n",
    "\n",
    "print(f\"RMSE: {AEMO_rmse}\")\n",
    "print(f\"MAE: {AEMO_mae}\")\n",
    "print(f\"MAPE: {AEMO_mape*100}%\")"
   ]
  }
 ],
 "metadata": {
  "kernelspec": {
   "display_name": "Python 3 (ipykernel)",
   "language": "python",
   "name": "python3"
  },
  "language_info": {
   "codemirror_mode": {
    "name": "ipython",
    "version": 3
   },
   "file_extension": ".py",
   "mimetype": "text/x-python",
   "name": "python",
   "nbconvert_exporter": "python",
   "pygments_lexer": "ipython3",
   "version": "3.10.9"
  }
 },
 "nbformat": 4,
 "nbformat_minor": 5
}
